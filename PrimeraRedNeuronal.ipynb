{
  "nbformat": 4,
  "nbformat_minor": 0,
  "metadata": {
    "colab": {
      "provenance": [],
      "collapsed_sections": [
        "grANjt7MwFnb"
      ]
    },
    "kernelspec": {
      "name": "python3",
      "display_name": "Python 3"
    },
    "language_info": {
      "name": "python"
    }
  },
  "cells": [
    {
      "cell_type": "code",
      "source": [
        "import tensorflow as tf\n",
        "from tensorflow import keras \n",
        "import matplotlib.pyplot as plt\n",
        "\n",
        "print(tf.keras.__version__)"
      ],
      "metadata": {
        "colab": {
          "base_uri": "https://localhost:8080/"
        },
        "id": "KDIaoMlgKl2v",
        "outputId": "29dfd026-0951-4e35-f37b-30a0cb14e4cf"
      },
      "execution_count": null,
      "outputs": [
        {
          "output_type": "stream",
          "name": "stdout",
          "text": [
            "2.12.0\n"
          ]
        }
      ]
    },
    {
      "cell_type": "code",
      "execution_count": null,
      "metadata": {
        "id": "QLt0xY4nJEhv"
      },
      "outputs": [],
      "source": [
        "mnist = tf.keras.datasets.mnist\n",
        "(x_train, y_train), (x_test, y_test) = mnist.load_data()"
      ]
    },
    {
      "cell_type": "code",
      "source": [
        "# Enseñamos muestras de nuestro dataset de entrenamiento\n",
        "'''\n",
        "for i in range(5):\n",
        "  plt.imshow(x_train[i], cmap=plt.cm.binary)\n",
        "  plt.title('Class {}'.format(y_train[i]))\n",
        "  plt.show()\n",
        "'''\n",
        "fig, axs = plt.subplots(1, 5)\n",
        "for i in range(5):\n",
        "    axs[i].imshow(x_train[i], cmap=plt.cm.binary)\n",
        "    axs[i].axis('off')\n",
        "    axs[i].set_title('Clase {}'.format(y_train[i]))\n",
        "plt.show()"
      ],
      "metadata": {
        "colab": {
          "base_uri": "https://localhost:8080/",
          "height": 144
        },
        "id": "B_SoXb2uLdi8",
        "outputId": "8e983883-29e9-48fe-b996-353a0aa67eb0"
      },
      "execution_count": null,
      "outputs": [
        {
          "output_type": "display_data",
          "data": {
            "text/plain": [
              "<Figure size 640x480 with 5 Axes>"
            ],
            "image/png": "[encoded data removed]"
          },
          "metadata": {}
        }
      ]
    },
    {
      "cell_type": "code",
      "source": [
        "print(x_train.ndim)\n",
        "print(x_train.shape)"
      ],
      "metadata": {
        "colab": {
          "base_uri": "https://localhost:8080/"
        },
        "id": "VjQMVxYiONB-",
        "outputId": "3d11931c-a505-4db2-df48-72f68ec88952"
      },
      "execution_count": null,
      "outputs": [
        {
          "output_type": "stream",
          "name": "stdout",
          "text": [
            "3\n",
            "(60000, 28, 28)\n"
          ]
        }
      ]
    },
    {
      "cell_type": "code",
      "source": [
        "# Ejemplo, queremos manipular las imagenes de x_train desde 0 hasta la 100\n",
        "ejemplo = x_train[1:100]\n",
        "print(ejemplo.shape)"
      ],
      "metadata": {
        "colab": {
          "base_uri": "https://localhost:8080/"
        },
        "id": "u4XBqpTATBt5",
        "outputId": "de5be173-ab46-4c7e-c0db-a41872c85f92"
      },
      "execution_count": null,
      "outputs": [
        {
          "output_type": "stream",
          "name": "stdout",
          "text": [
            "(99, 28, 28)\n"
          ]
        }
      ]
    },
    {
      "cell_type": "code",
      "source": [
        "#Para que quede más claro podemos hacer\n",
        "ejemplo = x_train[1:100, 0:28, 0:28]\n",
        "print(ejemplo.shape)"
      ],
      "metadata": {
        "colab": {
          "base_uri": "https://localhost:8080/"
        },
        "id": "hHzprClTTdhF",
        "outputId": "bbca9bc1-26eb-4181-cf8a-f5f72ca42a51"
      },
      "execution_count": null,
      "outputs": [
        {
          "output_type": "stream",
          "name": "stdout",
          "text": [
            "(99, 28, 28)\n"
          ]
        }
      ]
    },
    {
      "cell_type": "code",
      "source": [
        "# Si solo queremos seleccionar 14 pixeles de la parte inferior de la derecha\n",
        "ejempolo = x_train[:, 0:14, 0:14]\n",
        "print(ejemplo.shape)\n",
        "fig, axs = plt.subplots(1, 5)\n",
        "for i in range(5):\n",
        "  axs[i].imshow(ejempolo[i], cmap=plt.cm.binary)\n",
        "  axs[i].axis('off')\n",
        "  axs[i].set_title('Class {}'.format(y_train[i]))\n",
        "plt.show()"
      ],
      "metadata": {
        "colab": {
          "base_uri": "https://localhost:8080/",
          "height": 161
        },
        "id": "HK3VUeZWUACq",
        "outputId": "c278b07b-964f-4def-a9d1-521c962dbfb8"
      },
      "execution_count": null,
      "outputs": [
        {
          "output_type": "stream",
          "name": "stdout",
          "text": [
            "(99, 28, 28)\n"
          ]
        },
        {
          "output_type": "display_data",
          "data": {
            "text/plain": [
              "<Figure size 640x480 with 5 Axes>"
            ],
            "image/png": "[encoded data removed]"
          },
          "metadata": {}
        }
      ]
    },
    {
      "cell_type": "markdown",
      "source": [
        "# **PREPROCESADO DE DATOS**"
      ],
      "metadata": {
        "id": "UM81JmEWU_TP"
      }
    },
    {
      "cell_type": "code",
      "source": [
        "print(x_train.dtype) # Tipo de unidad que tenemos actualmente"
      ],
      "metadata": {
        "colab": {
          "base_uri": "https://localhost:8080/"
        },
        "id": "o2mj15MPVE9R",
        "outputId": "fd1f1355-c143-4fad-ea94-f364acc0b18a"
      },
      "execution_count": null,
      "outputs": [
        {
          "output_type": "stream",
          "name": "stdout",
          "text": [
            "uint8\n"
          ]
        }
      ]
    },
    {
      "cell_type": "code",
      "source": [
        "# Lo normal, es que x_train y x_test sea del tipo 'float32'\n",
        "x_train = x_train.astype('float32')\n",
        "x_test = x_test.astype('float32')\n",
        "\n",
        "x_train /= 255\n",
        "x_test /= 255"
      ],
      "metadata": {
        "id": "vIukwdfLV1sJ"
      },
      "execution_count": null,
      "outputs": []
    },
    {
      "cell_type": "code",
      "source": [
        "x_train.ndim"
      ],
      "metadata": {
        "colab": {
          "base_uri": "https://localhost:8080/"
        },
        "id": "XzNlz-PkXdTS",
        "outputId": "9099de7e-7cc3-49af-c6f5-fd9ffc87635b"
      },
      "execution_count": null,
      "outputs": [
        {
          "output_type": "execute_result",
          "data": {
            "text/plain": [
              "3"
            ]
          },
          "metadata": {},
          "execution_count": 14
        }
      ]
    },
    {
      "cell_type": "markdown",
      "source": [
        "Otra transformación necesaria es cambiar la forma de los tensores **sin cambiar los datos**.\n",
        "\n",
        "Esto significa que tenemos que cambiar la dimension de nuestra imagen. Ahora la tenemos en 28*28 pixeles (2D). Lo ideal seria cambiarla a una dimensión de 24 * 24=784 pixeles. Como vemos no se pierde la infomación, sino que simplemente se reestructuran los datos"
      ],
      "metadata": {
        "id": "V8mYvJiTXGPd"
      }
    },
    {
      "cell_type": "code",
      "source": [
        "x_train = x_train.reshape(60000, 784)\n",
        "x_test = x_test.reshape(10000, 784)\n",
        "print(x_train.shape)\n",
        "print(x_test.shape)"
      ],
      "metadata": {
        "id": "ZMuhfX0nXgji",
        "colab": {
          "base_uri": "https://localhost:8080/"
        },
        "outputId": "6f05f674-3706-423a-c8d6-803a132d244a"
      },
      "execution_count": null,
      "outputs": [
        {
          "output_type": "stream",
          "name": "stdout",
          "text": [
            "(60000, 784)\n",
            "(10000, 784)\n"
          ]
        }
      ]
    },
    {
      "cell_type": "code",
      "source": [
        "# Ahora convertimos los y_train y y_test a variables categoricas\n",
        "from tensorflow.keras.utils import to_categorical\n",
        "\n",
        "print(\"***** ANTES *****\")\n",
        "print(\"y_train[0] = \",y_train[0])\n",
        "print(\"y_test[0] = \",y_test[0])\n",
        "\n",
        "print(\"\\n***** DESPUES *****\")\n",
        "y_train = to_categorical(y_train, 10)\n",
        "y_test = to_categorical(y_test, 10)\n",
        "print(\"y_train[0] = \",y_train[0])\n",
        "print(\"y_test[0] = \",y_test[0])"
      ],
      "metadata": {
        "colab": {
          "base_uri": "https://localhost:8080/"
        },
        "id": "SdJL5sL4tKae",
        "outputId": "4dd2cfb0-c90e-425b-f5c7-341d3d2f080b"
      },
      "execution_count": null,
      "outputs": [
        {
          "output_type": "stream",
          "name": "stdout",
          "text": [
            "***** ANTES *****\n",
            "y_train[0] =  5\n",
            "y_test[0] =  7\n",
            "\n",
            "***** DESPUES *****\n",
            "y_train[0] =  [0. 0. 0. 0. 0. 1. 0. 0. 0. 0.]\n",
            "y_test[0] =  [0. 0. 0. 0. 0. 0. 0. 1. 0. 0.]\n"
          ]
        }
      ]
    },
    {
      "cell_type": "markdown",
      "source": [
        "# Definicion del modelo"
      ],
      "metadata": {
        "id": "u5cEa6c6ubvq"
      }
    },
    {
      "cell_type": "code",
      "source": [
        "from keras.models import Sequential\n",
        "from tensorflow.keras.layers import Dense\n",
        "model = Sequential()\n",
        "model.add(Dense(10, activation='sigmoid', input_shape=(784 ,)))\n",
        "model.add(Dense(10, activation='softmax'))\n",
        "model.summary()"
      ],
      "metadata": {
        "colab": {
          "base_uri": "https://localhost:8080/"
        },
        "id": "no1OLpbauggC",
        "outputId": "c6f8b6b4-ed59-40d6-ad08-63a5da5e9e01"
      },
      "execution_count": null,
      "outputs": [
        {
          "output_type": "stream",
          "name": "stdout",
          "text": [
            "Model: \"sequential_3\"\n",
            "_________________________________________________________________\n",
            " Layer (type)                Output Shape              Param #   \n",
            "=================================================================\n",
            " dense_2 (Dense)             (None, 10)                7850      \n",
            "                                                                 \n",
            " dense_3 (Dense)             (None, 10)                110       \n",
            "                                                                 \n",
            "=================================================================\n",
            "Total params: 7,960\n",
            "Trainable params: 7,960\n",
            "Non-trainable params: 0\n",
            "_________________________________________________________________\n"
          ]
        }
      ]
    },
    {
      "cell_type": "markdown",
      "source": [
        "\n",
        "Para entender los parametros, son los pesos de las neuronas. Son los que la red tiene que aprender para predecir bien. \n",
        "\n",
        "\n",
        "*   Primera Capa: Como entrada tenemos 784 píxeles que se conectan a las 10 neuronas que tenemos, tendremos unos pesos de (784 * 10). Ahora falta sumerle 10 pesos más que concretamente es el BIAS. Este es útil para mejorar el aprendizaje. Finalmente (784 * 10) + 10 = 7850 parametros.\n",
        "\n",
        "*   Segunda Capa: Como entrada tendremos 10 neuronas (Las de la capa 1). Por defeecto, keras ya coge estas entradas y no hace falta definir ningún 'input_shape'. Entonces tendremos (10 * 10) parametros ya que vames de una capa que tiene 10 neuronas a otra que también tiene 10 neuronas. Finalmente, falta sumar los pesos del bias que concretamente son 10. (10 * 10) + 10 = 110 parametros\n",
        "\n"
      ],
      "metadata": {
        "id": "tNajW4R_vU9_"
      }
    },
    {
      "cell_type": "code",
      "source": [
        "from keras.optimizers.optimizer_v1 import Optimizer\n",
        "model.compile(loss = \"categorical_crossentropy\",\n",
        "              optimizer = \"sgd\",\n",
        "              metrics = ['accuracy'])\n",
        "# Entrenamos el modelo\n",
        "model.fit(x_train, y_train, epochs=5)"
      ],
      "metadata": {
        "colab": {
          "base_uri": "https://localhost:8080/"
        },
        "id": "KCtP3Z2CvYLl",
        "outputId": "e92e1065-f1a2-4bc8-f6d6-de89b598afff"
      },
      "execution_count": null,
      "outputs": [
        {
          "output_type": "stream",
          "name": "stdout",
          "text": [
            "Epoch 1/5\n",
            "1875/1875 [==============================] - 5s 2ms/step - loss: 1.9524 - accuracy: 0.4657\n",
            "Epoch 2/5\n",
            "1875/1875 [==============================] - 3s 2ms/step - loss: 1.3651 - accuracy: 0.6732\n",
            "Epoch 3/5\n",
            "1875/1875 [==============================] - 3s 2ms/step - loss: 1.0358 - accuracy: 0.7494\n",
            "Epoch 4/5\n",
            "1875/1875 [==============================] - 3s 2ms/step - loss: 0.8510 - accuracy: 0.7949\n",
            "Epoch 5/5\n",
            "1875/1875 [==============================] - 4s 2ms/step - loss: 0.7296 - accuracy: 0.8253\n"
          ]
        },
        {
          "output_type": "execute_result",
          "data": {
            "text/plain": [
              "<keras.callbacks.History at 0x7febb4130e20>"
            ]
          },
          "metadata": {},
          "execution_count": 28
        }
      ]
    },
    {
      "cell_type": "markdown",
      "source": [
        "# Evaluacion del modelo"
      ],
      "metadata": {
        "id": "grANjt7MwFnb"
      }
    },
    {
      "cell_type": "code",
      "source": [
        "test_loss, test_acc = model.evaluate(x_test, y_test)\n",
        "print(\"test_loss\", test_loss)\n",
        "print(\"test_acc\", test_acc)"
      ],
      "metadata": {
        "colab": {
          "base_uri": "https://localhost:8080/"
        },
        "id": "m6gEMnFjwJOI",
        "outputId": "3271ce57-26e4-452c-aba1-cd1f21e88f91"
      },
      "execution_count": null,
      "outputs": [
        {
          "output_type": "stream",
          "name": "stdout",
          "text": [
            "313/313 [==============================] - 1s 2ms/step - loss: 0.6705 - accuracy: 0.8455\n",
            "test_loss 0.6704899668693542\n",
            "test_acc 0.8454999923706055\n"
          ]
        }
      ]
    }
  ]
}