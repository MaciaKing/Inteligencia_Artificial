{
  "nbformat": 4,
  "nbformat_minor": 0,
  "metadata": {
    "colab": {
      "provenance": []
    },
    "kernelspec": {
      "name": "python3",
      "display_name": "Python 3"
    },
    "language_info": {
      "name": "python"
    }
  },
  "cells": [
    {
      "cell_type": "code",
      "execution_count": 1,
      "metadata": {
        "colab": {
          "base_uri": "https://localhost:8080/"
        },
        "id": "ItdbiyKkFWuk",
        "outputId": "f10c66fd-940a-4466-defe-978a325fd381"
      },
      "outputs": [
        {
          "output_type": "stream",
          "name": "stdout",
          "text": [
            "Colab only includes TensorFlow 2.x; %tensorflow_version has no effect.\n",
            "2.12.0\n"
          ]
        }
      ],
      "source": [
        "%tensorflow_version 2.x\n",
        "import tensorflow as tf\n",
        "from tensorflow import keras \n",
        "print(tf.keras.__version__)"
      ]
    },
    {
      "cell_type": "code",
      "source": [
        "import numpy as np\n",
        "# Tensor 0D\n",
        "x = np.array(8)\n",
        "print(\"x: \", x)\n",
        "print(\"x: ndim\", x.ndim)\n",
        "print(\"x: shape\", x.shape)\n",
        "print(\"x: size\", x.size)"
      ],
      "metadata": {
        "colab": {
          "base_uri": "https://localhost:8080/"
        },
        "id": "gQBfI3F9H_6o",
        "outputId": "91ce5385-3a5b-425e-cb41-6a1b54d8cdce"
      },
      "execution_count": 4,
      "outputs": [
        {
          "output_type": "stream",
          "name": "stdout",
          "text": [
            "x:  8\n",
            "x: ndim 0\n",
            "x: shape ()\n",
            "x: size 1\n"
          ]
        }
      ]
    },
    {
      "cell_type": "code",
      "source": [
        "# Tensor 1D\n",
        "x = np.array([2.4, 5])\n",
        "print(\"x: \", x)\n",
        "print(\"x: ndim\", x.ndim)\n",
        "print(\"x: shape\", x.shape)\n",
        "print(\"x: size\", x.size)"
      ],
      "metadata": {
        "colab": {
          "base_uri": "https://localhost:8080/"
        },
        "id": "MCwXoD2QCl8p",
        "outputId": "6e2cd14d-11d9-4876-c873-125185735c7c"
      },
      "execution_count": 5,
      "outputs": [
        {
          "output_type": "stream",
          "name": "stdout",
          "text": [
            "x:  [2.4 5. ]\n",
            "x: ndim 1\n",
            "x: shape (2,)\n",
            "x: size 2\n"
          ]
        }
      ]
    },
    {
      "cell_type": "code",
      "source": [
        "# Tensor 2D\n",
        "x = np.array([[2.4, 5, 9], [5, 3, 0]])\n",
        "print(\"x: \", x)\n",
        "print(\"x: ndim\", x.ndim)\n",
        "print(\"x: shape\", x.shape)\n",
        "print(\"x: size\", x.size)"
      ],
      "metadata": {
        "colab": {
          "base_uri": "https://localhost:8080/"
        },
        "id": "FhaSohK8C1SY",
        "outputId": "3c7c0224-4ab3-401e-ddd5-27f27737e176"
      },
      "execution_count": 13,
      "outputs": [
        {
          "output_type": "stream",
          "name": "stdout",
          "text": [
            "x:  [[2.4 5.  9. ]\n",
            " [5.  3.  0. ]]\n",
            "x: ndim 2\n",
            "x: shape (2, 3)\n",
            "x: size 6\n"
          ]
        }
      ]
    },
    {
      "cell_type": "code",
      "source": [
        "# Tensor 3D\n",
        "x = np.array([[[3,5], [3,2]] ,[[4,5],[6,5]]] )\n",
        "print(\"x: \", x)\n",
        "print(\"x: ndim\", x.ndim)\n",
        "print(\"x: shape\", x.shape)\n",
        "print(\"x: size\", x.size)"
      ],
      "metadata": {
        "colab": {
          "base_uri": "https://localhost:8080/"
        },
        "id": "1rY9pQhZEDeZ",
        "outputId": "cd4907de-9639-45c7-e569-ed6315f2e1a9"
      },
      "execution_count": 15,
      "outputs": [
        {
          "output_type": "stream",
          "name": "stdout",
          "text": [
            "x:  [[[3 5]\n",
            "  [3 2]]\n",
            "\n",
            " [[4 5]\n",
            "  [6 5]]]\n",
            "x: ndim 3\n",
            "x: shape (2, 2, 2)\n",
            "x: size 8\n"
          ]
        }
      ]
    },
    {
      "cell_type": "code",
      "source": [
        "# Creacion de tensores con numpy\n",
        "a = np.zeros((5,2))\n",
        "print(a)\n",
        "\n",
        "print(\"---------\")\n",
        "b = np.ones((5,5))\n",
        "print(b)\n",
        "\n",
        "print(\"---------\")\n",
        "c = np.eye(5)\n",
        "print(c)"
      ],
      "metadata": {
        "colab": {
          "base_uri": "https://localhost:8080/"
        },
        "id": "0MGQUdzeEjrn",
        "outputId": "64007884-80e6-4cf4-c298-4a8d1c801866"
      },
      "execution_count": 29,
      "outputs": [
        {
          "output_type": "stream",
          "name": "stdout",
          "text": [
            "[[0. 0.]\n",
            " [0. 0.]\n",
            " [0. 0.]\n",
            " [0. 0.]\n",
            " [0. 0.]]\n",
            "---------\n",
            "[[1. 1. 1. 1. 1.]\n",
            " [1. 1. 1. 1. 1.]\n",
            " [1. 1. 1. 1. 1.]\n",
            " [1. 1. 1. 1. 1.]\n",
            " [1. 1. 1. 1. 1.]]\n",
            "---------\n",
            "[[1. 0. 0. 0. 0.]\n",
            " [0. 1. 0. 0. 0.]\n",
            " [0. 0. 1. 0. 0.]\n",
            " [0. 0. 0. 1. 0.]\n",
            " [0. 0. 0. 0. 1.]]\n"
          ]
        }
      ]
    },
    {
      "cell_type": "code",
      "source": [
        "# Manipulacion de tensores\n",
        "d = np.array([[2, 5, 9], [5, 3, 0] , [5,7,0]])\n",
        "print(d)\n",
        "print(\"---------\")\n",
        "print(\"Columna 3\", d[:,1])\n",
        "print(\"Fila 2\", d[2,:])\n",
        "print(\"Columna 0 y 1, fila 1,2\", d[1:2, 0:1])"
      ],
      "metadata": {
        "colab": {
          "base_uri": "https://localhost:8080/"
        },
        "id": "D_p07iV2GD9j",
        "outputId": "38ca146a-7bef-4329-bb9b-b78a30ffc73c"
      },
      "execution_count": 34,
      "outputs": [
        {
          "output_type": "stream",
          "name": "stdout",
          "text": [
            "[[2 5 9]\n",
            " [5 3 0]\n",
            " [5 7 0]]\n",
            "---------\n",
            "Columna 3 [5 3 7]\n",
            "Fila 2 [5 7 0]\n",
            "Columna 0 y 1, fila 1,2 [[5]]\n"
          ]
        }
      ]
    },
    {
      "cell_type": "markdown",
      "source": [
        "Multiplicacion de matrices. \n",
        "\n",
        "\n",
        "![Captura de pantalla 2023-05-07 a las 19.16.10.png](data:image/png;base64,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)"
      ],
      "metadata": {
        "id": "eDEQ5-QhNuCn"
      }
    },
    {
      "cell_type": "code",
      "source": [
        "# Multiplicamos dos tensores\n",
        "a = np.array([[2,3,4], [2,4,5]])\n",
        "b = np.array([[1,4,5], [0,1,0], [0,1,0]])\n",
        "#print(\"(\", a.shape, \") * (\", b.shape, \")\")\n",
        "print( a, \"\\n *\\n\", b)\n",
        "c = a.dot(b)\n",
        "print(\"\\n(\", a.shape, \") * (\", b.shape, \") =\", c.shape)"
      ],
      "metadata": {
        "colab": {
          "base_uri": "https://localhost:8080/"
        },
        "id": "uykyc1rdJxYv",
        "outputId": "522db8be-8fd6-4d5f-99f3-42daf13305b7"
      },
      "execution_count": 45,
      "outputs": [
        {
          "output_type": "stream",
          "name": "stdout",
          "text": [
            "[[2 3 4]\n",
            " [2 4 5]] \n",
            " *\n",
            " [[1 4 5]\n",
            " [0 1 0]\n",
            " [0 1 0]]\n",
            "\n",
            "( (2, 3) ) * ( (3, 3) ) = (2, 3)\n"
          ]
        }
      ]
    },
    {
      "cell_type": "code",
      "source": [
        "# Cambiamos las forma de los tensores\n",
        "a = np.array([[1,2,3,4,5,6]])\n",
        "print(a, \"\\nshape=\",a.shape)\n",
        "print(\"********************\")\n",
        "b = np.reshape(a, (2,3))\n",
        "print(b, \"\\nshape=\",b.shape)"
      ],
      "metadata": {
        "colab": {
          "base_uri": "https://localhost:8080/"
        },
        "id": "60hykSyJPtR4",
        "outputId": "2ee0d2c0-b8bf-4545-ac90-b6fd5f3624fb"
      },
      "execution_count": 52,
      "outputs": [
        {
          "output_type": "stream",
          "name": "stdout",
          "text": [
            "[[1 2 3 4 5 6]] \n",
            "shape= (1, 6)\n",
            "********************\n",
            "[[1 2 3]\n",
            " [4 5 6]] \n",
            "shape= (2, 3)\n"
          ]
        }
      ]
    },
    {
      "cell_type": "code",
      "source": [
        "# Añadimos dimensiones a un tensor \n",
        "a = np.array([[2,3,4], [2,4,5]])\n",
        "print(a, \"\\nshape=\",a.shape)\n",
        "\n",
        "print(\"********************\")\n",
        "y = np.expand_dims(a,1)\n",
        "print(y, \"\\nshape=\",y.shape)"
      ],
      "metadata": {
        "colab": {
          "base_uri": "https://localhost:8080/"
        },
        "id": "tlhKGvY4S4c2",
        "outputId": "bca94b45-c4cc-40cd-d5d5-d85e1d1bd55d"
      },
      "execution_count": 65,
      "outputs": [
        {
          "output_type": "stream",
          "name": "stdout",
          "text": [
            "[[2 3 4]\n",
            " [2 4 5]] \n",
            "shape= (2, 3)\n",
            "********************\n",
            "[[[2 3 4]]\n",
            "\n",
            " [[2 4 5]]] \n",
            "shape= (2, 1, 3)\n"
          ]
        }
      ]
    },
    {
      "cell_type": "code",
      "source": [
        "# Borramos una dimension de nuestro tensor\n",
        "y = np.squeeze(y, 1)\n",
        "print(y, \"\\nshape=\", y.shape)"
      ],
      "metadata": {
        "colab": {
          "base_uri": "https://localhost:8080/"
        },
        "id": "jWTUOC30UvXv",
        "outputId": "f80fb954-ab81-48fc-d6d5-dd6759424ee1"
      },
      "execution_count": 67,
      "outputs": [
        {
          "output_type": "stream",
          "name": "stdout",
          "text": [
            "[[2 3 4]\n",
            " [2 4 5]] \n",
            "shape= (2, 3)\n"
          ]
        }
      ]
    },
    {
      "cell_type": "code",
      "source": [
        "# Valor máximo de un tensor\n",
        "a = np.array([2,4,5])\n",
        "print(a, \"\\nARGMAX =\", np.argmax(a)) # Devuelve el indice del valor más alto\n",
        "print(\"MAX =\", np.max(a)) # Devuelve el valor más alto"
      ],
      "metadata": {
        "colab": {
          "base_uri": "https://localhost:8080/"
        },
        "id": "nnRmnIAqU_dw",
        "outputId": "3de066bf-084c-409c-f3fb-33aed8ecb303"
      },
      "execution_count": 74,
      "outputs": [
        {
          "output_type": "stream",
          "name": "stdout",
          "text": [
            "[2 4 5] \n",
            "ARGMAX = 2\n",
            "MAX = 5\n"
          ]
        }
      ]
    },
    {
      "cell_type": "code",
      "source": [
        "# Valor máximo de un tensor de más de 1D\n",
        "a = np.array([[2,3,4], [2,4,10]])\n",
        "print(a, \"\\nARGMAX =\", np.argmax(a)) # Devuelve el indice del valor más alto\n",
        "print(\"MAX =\", np.max(a)) # Devuelve el valor más alto"
      ],
      "metadata": {
        "colab": {
          "base_uri": "https://localhost:8080/"
        },
        "id": "iZ-WP7XMV9Iy",
        "outputId": "65dff871-8f43-4a64-80fb-146346dc4b77"
      },
      "execution_count": 76,
      "outputs": [
        {
          "output_type": "stream",
          "name": "stdout",
          "text": [
            "[[ 2  3  4]\n",
            " [ 2  4 10]] \n",
            "ARGMAX = 5\n",
            "MAX = 10\n"
          ]
        }
      ]
    }
  ]
}